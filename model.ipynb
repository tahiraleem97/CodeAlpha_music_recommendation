{
 "cells": [
  {
   "cell_type": "markdown",
   "id": "c419a8b2",
   "metadata": {},
   "source": [
    "\n",
    "# importing libraries"
   ]
  },
  {
   "cell_type": "code",
   "execution_count": 12,
   "id": "ad146924",
   "metadata": {},
   "outputs": [],
   "source": [
    "import pandas as pd\n",
    "import nltk\n",
    "from nltk.stem.porter import PorterStemmer\n",
    "from sklearn.feature_extraction.text import TfidfVectorizer\n",
    "from sklearn.metrics.pairwise import cosine_similarity"
   ]
  },
  {
   "cell_type": "markdown",
   "id": "ee0bf06c",
   "metadata": {},
   "source": [
    "# loading csv\n",
    "### Downloaded dataset from here : https://www.kaggle.com/datasets/notshrirang/spotify-million-song-dataset"
   ]
  },
  {
   "cell_type": "code",
   "execution_count": 45,
   "id": "25b488ee",
   "metadata": {},
   "outputs": [],
   "source": [
    "df = pd.read_csv(\"spotify_millsongdata.csv\")"
   ]
  },
  {
   "cell_type": "code",
   "execution_count": 46,
   "id": "3dbba670",
   "metadata": {},
   "outputs": [
    {
     "data": {
      "text/html": [
       "<div>\n",
       "<style scoped>\n",
       "    .dataframe tbody tr th:only-of-type {\n",
       "        vertical-align: middle;\n",
       "    }\n",
       "\n",
       "    .dataframe tbody tr th {\n",
       "        vertical-align: top;\n",
       "    }\n",
       "\n",
       "    .dataframe thead th {\n",
       "        text-align: right;\n",
       "    }\n",
       "</style>\n",
       "<table border=\"1\" class=\"dataframe\">\n",
       "  <thead>\n",
       "    <tr style=\"text-align: right;\">\n",
       "      <th></th>\n",
       "      <th>artist</th>\n",
       "      <th>song</th>\n",
       "      <th>link</th>\n",
       "      <th>text</th>\n",
       "    </tr>\n",
       "  </thead>\n",
       "  <tbody>\n",
       "    <tr>\n",
       "      <th>0</th>\n",
       "      <td>ABBA</td>\n",
       "      <td>Ahe's My Kind Of Girl</td>\n",
       "      <td>/a/abba/ahes+my+kind+of+girl_20598417.html</td>\n",
       "      <td>Look at her face, it's a wonderful face  \\r\\nA...</td>\n",
       "    </tr>\n",
       "    <tr>\n",
       "      <th>1</th>\n",
       "      <td>ABBA</td>\n",
       "      <td>Andante, Andante</td>\n",
       "      <td>/a/abba/andante+andante_20002708.html</td>\n",
       "      <td>Take it easy with me, please  \\r\\nTouch me gen...</td>\n",
       "    </tr>\n",
       "    <tr>\n",
       "      <th>2</th>\n",
       "      <td>ABBA</td>\n",
       "      <td>As Good As New</td>\n",
       "      <td>/a/abba/as+good+as+new_20003033.html</td>\n",
       "      <td>I'll never know why I had to go  \\r\\nWhy I had...</td>\n",
       "    </tr>\n",
       "    <tr>\n",
       "      <th>3</th>\n",
       "      <td>ABBA</td>\n",
       "      <td>Bang</td>\n",
       "      <td>/a/abba/bang_20598415.html</td>\n",
       "      <td>Making somebody happy is a question of give an...</td>\n",
       "    </tr>\n",
       "    <tr>\n",
       "      <th>4</th>\n",
       "      <td>ABBA</td>\n",
       "      <td>Bang-A-Boomerang</td>\n",
       "      <td>/a/abba/bang+a+boomerang_20002668.html</td>\n",
       "      <td>Making somebody happy is a question of give an...</td>\n",
       "    </tr>\n",
       "  </tbody>\n",
       "</table>\n",
       "</div>"
      ],
      "text/plain": [
       "  artist                   song                                        link  \\\n",
       "0   ABBA  Ahe's My Kind Of Girl  /a/abba/ahes+my+kind+of+girl_20598417.html   \n",
       "1   ABBA       Andante, Andante       /a/abba/andante+andante_20002708.html   \n",
       "2   ABBA         As Good As New        /a/abba/as+good+as+new_20003033.html   \n",
       "3   ABBA                   Bang                  /a/abba/bang_20598415.html   \n",
       "4   ABBA       Bang-A-Boomerang      /a/abba/bang+a+boomerang_20002668.html   \n",
       "\n",
       "                                                text  \n",
       "0  Look at her face, it's a wonderful face  \\r\\nA...  \n",
       "1  Take it easy with me, please  \\r\\nTouch me gen...  \n",
       "2  I'll never know why I had to go  \\r\\nWhy I had...  \n",
       "3  Making somebody happy is a question of give an...  \n",
       "4  Making somebody happy is a question of give an...  "
      ]
     },
     "execution_count": 46,
     "metadata": {},
     "output_type": "execute_result"
    }
   ],
   "source": [
    "df.head(5)"
   ]
  },
  {
   "cell_type": "code",
   "execution_count": 47,
   "id": "72a8ebf1",
   "metadata": {},
   "outputs": [
    {
     "data": {
      "text/html": [
       "<div>\n",
       "<style scoped>\n",
       "    .dataframe tbody tr th:only-of-type {\n",
       "        vertical-align: middle;\n",
       "    }\n",
       "\n",
       "    .dataframe tbody tr th {\n",
       "        vertical-align: top;\n",
       "    }\n",
       "\n",
       "    .dataframe thead th {\n",
       "        text-align: right;\n",
       "    }\n",
       "</style>\n",
       "<table border=\"1\" class=\"dataframe\">\n",
       "  <thead>\n",
       "    <tr style=\"text-align: right;\">\n",
       "      <th></th>\n",
       "      <th>artist</th>\n",
       "      <th>song</th>\n",
       "      <th>link</th>\n",
       "      <th>text</th>\n",
       "    </tr>\n",
       "  </thead>\n",
       "  <tbody>\n",
       "    <tr>\n",
       "      <th>57645</th>\n",
       "      <td>Ziggy Marley</td>\n",
       "      <td>Good Old Days</td>\n",
       "      <td>/z/ziggy+marley/good+old+days_10198588.html</td>\n",
       "      <td>Irie days come on play  \\r\\nLet the angels fly...</td>\n",
       "    </tr>\n",
       "    <tr>\n",
       "      <th>57646</th>\n",
       "      <td>Ziggy Marley</td>\n",
       "      <td>Hand To Mouth</td>\n",
       "      <td>/z/ziggy+marley/hand+to+mouth_20531167.html</td>\n",
       "      <td>Power to the workers  \\r\\nMore power  \\r\\nPowe...</td>\n",
       "    </tr>\n",
       "    <tr>\n",
       "      <th>57647</th>\n",
       "      <td>Zwan</td>\n",
       "      <td>Come With Me</td>\n",
       "      <td>/z/zwan/come+with+me_20148981.html</td>\n",
       "      <td>all you need  \\r\\nis something i'll believe  \\...</td>\n",
       "    </tr>\n",
       "    <tr>\n",
       "      <th>57648</th>\n",
       "      <td>Zwan</td>\n",
       "      <td>Desire</td>\n",
       "      <td>/z/zwan/desire_20148986.html</td>\n",
       "      <td>northern star  \\r\\nam i frightened  \\r\\nwhere ...</td>\n",
       "    </tr>\n",
       "    <tr>\n",
       "      <th>57649</th>\n",
       "      <td>Zwan</td>\n",
       "      <td>Heartsong</td>\n",
       "      <td>/z/zwan/heartsong_20148991.html</td>\n",
       "      <td>come in  \\r\\nmake yourself at home  \\r\\ni'm a ...</td>\n",
       "    </tr>\n",
       "  </tbody>\n",
       "</table>\n",
       "</div>"
      ],
      "text/plain": [
       "             artist           song  \\\n",
       "57645  Ziggy Marley  Good Old Days   \n",
       "57646  Ziggy Marley  Hand To Mouth   \n",
       "57647          Zwan   Come With Me   \n",
       "57648          Zwan         Desire   \n",
       "57649          Zwan      Heartsong   \n",
       "\n",
       "                                              link  \\\n",
       "57645  /z/ziggy+marley/good+old+days_10198588.html   \n",
       "57646  /z/ziggy+marley/hand+to+mouth_20531167.html   \n",
       "57647           /z/zwan/come+with+me_20148981.html   \n",
       "57648                 /z/zwan/desire_20148986.html   \n",
       "57649              /z/zwan/heartsong_20148991.html   \n",
       "\n",
       "                                                    text  \n",
       "57645  Irie days come on play  \\r\\nLet the angels fly...  \n",
       "57646  Power to the workers  \\r\\nMore power  \\r\\nPowe...  \n",
       "57647  all you need  \\r\\nis something i'll believe  \\...  \n",
       "57648  northern star  \\r\\nam i frightened  \\r\\nwhere ...  \n",
       "57649  come in  \\r\\nmake yourself at home  \\r\\ni'm a ...  "
      ]
     },
     "execution_count": 47,
     "metadata": {},
     "output_type": "execute_result"
    }
   ],
   "source": [
    "df.tail(5)"
   ]
  },
  {
   "cell_type": "code",
   "execution_count": 48,
   "id": "a750169b",
   "metadata": {},
   "outputs": [
    {
     "data": {
      "text/plain": [
       "(57650, 4)"
      ]
     },
     "execution_count": 48,
     "metadata": {},
     "output_type": "execute_result"
    }
   ],
   "source": [
    "df.shape"
   ]
  },
  {
   "cell_type": "code",
   "execution_count": 49,
   "id": "dcf3edc9",
   "metadata": {},
   "outputs": [
    {
     "data": {
      "text/plain": [
       "artist    0\n",
       "song      0\n",
       "link      0\n",
       "text      0\n",
       "dtype: int64"
      ]
     },
     "execution_count": 49,
     "metadata": {},
     "output_type": "execute_result"
    }
   ],
   "source": [
    "df.isnull().sum()"
   ]
  },
  {
   "cell_type": "markdown",
   "id": "b62daf25",
   "metadata": {},
   "source": [
    "# We don't need link column so we will drop it"
   ]
  },
  {
   "cell_type": "code",
   "execution_count": 50,
   "id": "af1a7cc6",
   "metadata": {},
   "outputs": [],
   "source": [
    "df =df.sample(5000).drop('link', axis=1).reset_index(drop=True)"
   ]
  },
  {
   "cell_type": "code",
   "execution_count": 51,
   "id": "b92d59f3",
   "metadata": {},
   "outputs": [
    {
     "data": {
      "text/html": [
       "<div>\n",
       "<style scoped>\n",
       "    .dataframe tbody tr th:only-of-type {\n",
       "        vertical-align: middle;\n",
       "    }\n",
       "\n",
       "    .dataframe tbody tr th {\n",
       "        vertical-align: top;\n",
       "    }\n",
       "\n",
       "    .dataframe thead th {\n",
       "        text-align: right;\n",
       "    }\n",
       "</style>\n",
       "<table border=\"1\" class=\"dataframe\">\n",
       "  <thead>\n",
       "    <tr style=\"text-align: right;\">\n",
       "      <th></th>\n",
       "      <th>artist</th>\n",
       "      <th>song</th>\n",
       "      <th>text</th>\n",
       "    </tr>\n",
       "  </thead>\n",
       "  <tbody>\n",
       "    <tr>\n",
       "      <th>0</th>\n",
       "      <td>Puff Daddy</td>\n",
       "      <td>Hate Me Now (Feat. Nas)</td>\n",
       "      <td>[Puff] Escobar season has returned...  \\r\\n[Na...</td>\n",
       "    </tr>\n",
       "    <tr>\n",
       "      <th>1</th>\n",
       "      <td>Nina Simone</td>\n",
       "      <td>Laziest Gal In Town</td>\n",
       "      <td>It's not 'cause I wouldn't,  \\r\\nIt's not 'cau...</td>\n",
       "    </tr>\n",
       "    <tr>\n",
       "      <th>2</th>\n",
       "      <td>Britney Spears</td>\n",
       "      <td>Abroad</td>\n",
       "      <td>Let me see your passport  \\r\\nPlease take off ...</td>\n",
       "    </tr>\n",
       "    <tr>\n",
       "      <th>3</th>\n",
       "      <td>Townes Van Zandt</td>\n",
       "      <td>Lover's Lullaby</td>\n",
       "      <td>Dreams that have flown down the hall  \\r\\nTear...</td>\n",
       "    </tr>\n",
       "    <tr>\n",
       "      <th>4</th>\n",
       "      <td>Point Of Grace</td>\n",
       "      <td>He's The Best Thing</td>\n",
       "      <td>He's a light unto my pathway  \\r\\nHe's a lamp ...</td>\n",
       "    </tr>\n",
       "    <tr>\n",
       "      <th>5</th>\n",
       "      <td>Great Big Sea</td>\n",
       "      <td>The River Driver</td>\n",
       "      <td>I was just the age of sixteen  \\r\\nWhen I firs...</td>\n",
       "    </tr>\n",
       "    <tr>\n",
       "      <th>6</th>\n",
       "      <td>Howard Jones</td>\n",
       "      <td>Show Me</td>\n",
       "      <td>We got the same beat runnin' round  \\r\\nThroug...</td>\n",
       "    </tr>\n",
       "    <tr>\n",
       "      <th>7</th>\n",
       "      <td>Ella Fitzgerald</td>\n",
       "      <td>Bewitched</td>\n",
       "      <td>After one whole quart of brandy  \\r\\nLike a da...</td>\n",
       "    </tr>\n",
       "    <tr>\n",
       "      <th>8</th>\n",
       "      <td>Alice Cooper</td>\n",
       "      <td>Dangerous Tonight</td>\n",
       "      <td>Take another bite  \\r\\nIt'll be alright  \\r\\nW...</td>\n",
       "    </tr>\n",
       "    <tr>\n",
       "      <th>9</th>\n",
       "      <td>Kinks</td>\n",
       "      <td>Black Messiah</td>\n",
       "      <td>Everybody got the right to speak their mind  \\...</td>\n",
       "    </tr>\n",
       "  </tbody>\n",
       "</table>\n",
       "</div>"
      ],
      "text/plain": [
       "             artist                     song  \\\n",
       "0        Puff Daddy  Hate Me Now (Feat. Nas)   \n",
       "1       Nina Simone      Laziest Gal In Town   \n",
       "2    Britney Spears                   Abroad   \n",
       "3  Townes Van Zandt          Lover's Lullaby   \n",
       "4    Point Of Grace      He's The Best Thing   \n",
       "5     Great Big Sea         The River Driver   \n",
       "6      Howard Jones                  Show Me   \n",
       "7   Ella Fitzgerald                Bewitched   \n",
       "8      Alice Cooper        Dangerous Tonight   \n",
       "9             Kinks            Black Messiah   \n",
       "\n",
       "                                                text  \n",
       "0  [Puff] Escobar season has returned...  \\r\\n[Na...  \n",
       "1  It's not 'cause I wouldn't,  \\r\\nIt's not 'cau...  \n",
       "2  Let me see your passport  \\r\\nPlease take off ...  \n",
       "3  Dreams that have flown down the hall  \\r\\nTear...  \n",
       "4  He's a light unto my pathway  \\r\\nHe's a lamp ...  \n",
       "5  I was just the age of sixteen  \\r\\nWhen I firs...  \n",
       "6  We got the same beat runnin' round  \\r\\nThroug...  \n",
       "7  After one whole quart of brandy  \\r\\nLike a da...  \n",
       "8  Take another bite  \\r\\nIt'll be alright  \\r\\nW...  \n",
       "9  Everybody got the right to speak their mind  \\...  "
      ]
     },
     "execution_count": 51,
     "metadata": {},
     "output_type": "execute_result"
    }
   ],
   "source": [
    "df.head(10)"
   ]
  },
  {
   "cell_type": "code",
   "execution_count": 52,
   "id": "013eb9d4",
   "metadata": {},
   "outputs": [
    {
     "data": {
      "text/plain": [
       "\"[Puff] Escobar season has returned...  \\r\\n[Nas]  \\r\\nIt's been a long time, been a long time comin  \\r\\nLooks like the death of me now  \\r\\nBut you know, there's no turning back now  \\r\\nThis is what makes me - this is what I am  \\r\\n[Puff] Feel me? Let's go  \\r\\n[Base Chorus: Puff Daddy]  \\r\\nYou can hate me now.. but I won't stop now..  \\r\\nCause I can't stop now.. you can hate me now..  \\r\\nBut I won't stop now.. cause I can't stop now..  \\r\\nYou can hate me now.. you can hate me NOWWWW..  \\r\\n[1st Chorus: add Nas after each pause]  \\r\\nQ.B., real niggas, Bravehearts, c'mon  \\r\\n[1st Chorus: after Nas add Puff Daddy ad lib]  \\r\\nWell you hate me I'm gon' hate you too  \\r\\nIt's as simple as that  \\r\\nDie motherfucker die motherfucker die  \\r\\nYou don't give a fuck I don't give a fuck  \\r\\nGo down any way you want it to go down (do it now)  \\r\\nWeak, jealous motherfuckers (do it now, do it now)  \\r\\nFuck y'all!  \\r\\n[Verse 1]  \\r\\nDon't hate me, hate the money I see, clothes that I buy  \\r\\nIce that I wear, clothes that I try, close your eyes  \\r\\nPicture me rollin, sixes, money foldin  \\r\\nBitches honies that swollen to riches, Nas get in ya  \\r\\nMost critically acclaimed Pulitzer, prize winner  \\r\\nBest storyteller thug narrator my style's greater  \\r\\nModel dater, big threat to a lot of you haters  \\r\\nCommentators ringside try watchin my paper  \\r\\nAlmost a decade, quite impressive  \\r\\nMost of the best is in the essence  \\r\\nFor this rap shit that I stand for  \\r\\nExpandin more to the big screen, Bill Gates dreams  \\r\\nBut it seems you'd rather see me in jail with state greens  \\r\\nWant me off the scene fast, but good things last  \\r\\nLike your favorite MC still makin some mean cash  \\r\\nFirst rapper to bring a platinum plaque, back to the projects  \\r\\nBut you still wanna hate,\\r\\n\\r\\n\""
      ]
     },
     "execution_count": 52,
     "metadata": {},
     "output_type": "execute_result"
    }
   ],
   "source": [
    "df['text'][0]"
   ]
  },
  {
   "cell_type": "code",
   "execution_count": 44,
   "id": "c4cc7a4a",
   "metadata": {},
   "outputs": [],
   "source": [
    "df = df.sample(3000)"
   ]
  },
  {
   "cell_type": "code",
   "execution_count": 53,
   "id": "c02288ba",
   "metadata": {},
   "outputs": [
    {
     "data": {
      "text/plain": [
       "(5000, 3)"
      ]
     },
     "execution_count": 53,
     "metadata": {},
     "output_type": "execute_result"
    }
   ],
   "source": [
    "df.shape"
   ]
  },
  {
   "cell_type": "markdown",
   "id": "ed78b280",
   "metadata": {},
   "source": [
    "# Preprocessing"
   ]
  },
  {
   "cell_type": "code",
   "execution_count": 54,
   "id": "f77a3a08",
   "metadata": {},
   "outputs": [],
   "source": [
    "df['text'] = df['text'].str.lower().replace(r'^\\w\\s', ' ').replace(r'\\n', ' ', regex = True)"
   ]
  },
  {
   "cell_type": "markdown",
   "id": "04c95771",
   "metadata": {},
   "source": [
    "# Applying stemming"
   ]
  },
  {
   "cell_type": "code",
   "execution_count": 55,
   "id": "6e811693",
   "metadata": {},
   "outputs": [],
   "source": [
    "stemmer = PorterStemmer()\n",
    "\n",
    "def tokenization(txt):\n",
    "    tokens = nltk.word_tokenize(txt)\n",
    "    stemming = [stemmer.stem(w) for w in tokens]\n",
    "    return \" \".join(stemming)"
   ]
  },
  {
   "cell_type": "code",
   "execution_count": 56,
   "id": "a0ac8840",
   "metadata": {},
   "outputs": [],
   "source": [
    "df['text'] = df['text'].apply(lambda x: tokenization(x))"
   ]
  },
  {
   "cell_type": "code",
   "execution_count": 57,
   "id": "f7b81162",
   "metadata": {},
   "outputs": [],
   "source": [
    "tfidvector = TfidfVectorizer(analyzer='word',stop_words='english')\n",
    "matrix = tfidvector.fit_transform(df['text'])\n",
    "similarity = cosine_similarity(matrix)"
   ]
  },
  {
   "cell_type": "code",
   "execution_count": 58,
   "id": "b8058932",
   "metadata": {},
   "outputs": [
    {
     "data": {
      "text/plain": [
       "array([1.        , 0.03043772, 0.01741327, ..., 0.02938947, 0.02187938,\n",
       "       0.03653265])"
      ]
     },
     "execution_count": 58,
     "metadata": {},
     "output_type": "execute_result"
    }
   ],
   "source": [
    "similarity[0]"
   ]
  },
  {
   "cell_type": "code",
   "execution_count": 61,
   "id": "c72eb121",
   "metadata": {},
   "outputs": [
    {
     "data": {
      "text/html": [
       "<div>\n",
       "<style scoped>\n",
       "    .dataframe tbody tr th:only-of-type {\n",
       "        vertical-align: middle;\n",
       "    }\n",
       "\n",
       "    .dataframe tbody tr th {\n",
       "        vertical-align: top;\n",
       "    }\n",
       "\n",
       "    .dataframe thead th {\n",
       "        text-align: right;\n",
       "    }\n",
       "</style>\n",
       "<table border=\"1\" class=\"dataframe\">\n",
       "  <thead>\n",
       "    <tr style=\"text-align: right;\">\n",
       "      <th></th>\n",
       "      <th>artist</th>\n",
       "      <th>song</th>\n",
       "      <th>text</th>\n",
       "    </tr>\n",
       "  </thead>\n",
       "  <tbody>\n",
       "    <tr>\n",
       "      <th>2</th>\n",
       "      <td>Britney Spears</td>\n",
       "      <td>Abroad</td>\n",
       "      <td>let me see your passport pleas take off your g...</td>\n",
       "    </tr>\n",
       "  </tbody>\n",
       "</table>\n",
       "</div>"
      ],
      "text/plain": [
       "           artist    song                                               text\n",
       "2  Britney Spears  Abroad  let me see your passport pleas take off your g..."
      ]
     },
     "execution_count": 61,
     "metadata": {},
     "output_type": "execute_result"
    }
   ],
   "source": [
    "df[df['song'] == 'Abroad']"
   ]
  },
  {
   "cell_type": "code",
   "execution_count": 62,
   "id": "406ccc88",
   "metadata": {},
   "outputs": [],
   "source": [
    "def recommendation(song_df):\n",
    "    idx = df[df['song'] == song_df].index[0]\n",
    "    distances = sorted(list(enumerate(similarity[idx])),reverse=True,key=lambda x:x[1])\n",
    "    \n",
    "    songs = []\n",
    "    for m_id in distances[1:21]:\n",
    "        songs.append(df.iloc[m_id[0]].song)\n",
    "        \n",
    "    return songs"
   ]
  },
  {
   "cell_type": "code",
   "execution_count": 63,
   "id": "0e1f2a18",
   "metadata": {},
   "outputs": [
    {
     "data": {
      "text/plain": [
       "[\"Goin' Home To Rock\",\n",
       " 'You Might Need A Man',\n",
       " 'One Last Time',\n",
       " 'Break',\n",
       " 'Let Me Know',\n",
       " 'All You Need Is Love',\n",
       " 'Let Me Be The First To Know',\n",
       " 'The Three Day Man',\n",
       " 'Gospel Changes',\n",
       " 'Need Some Love',\n",
       " 'Paper Friends',\n",
       " 'Final Eyes',\n",
       " 'Get It Right',\n",
       " 'Francine',\n",
       " 'Every Second Someone Breaks A Heart',\n",
       " 'I Want Your Love',\n",
       " 'Do You Know?',\n",
       " 'They Said You Needed Me',\n",
       " 'I Am God',\n",
       " 'Listen Like Thieves']"
      ]
     },
     "execution_count": 63,
     "metadata": {},
     "output_type": "execute_result"
    }
   ],
   "source": [
    "recommendation('Abroad')"
   ]
  },
  {
   "cell_type": "code",
   "execution_count": null,
   "id": "804c3770",
   "metadata": {},
   "outputs": [],
   "source": []
  }
 ],
 "metadata": {
  "kernelspec": {
   "display_name": "Python 3 (ipykernel)",
   "language": "python",
   "name": "python3"
  },
  "language_info": {
   "codemirror_mode": {
    "name": "ipython",
    "version": 3
   },
   "file_extension": ".py",
   "mimetype": "text/x-python",
   "name": "python",
   "nbconvert_exporter": "python",
   "pygments_lexer": "ipython3",
   "version": "3.11.5"
  }
 },
 "nbformat": 4,
 "nbformat_minor": 5
}
